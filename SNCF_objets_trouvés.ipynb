{
 "cells": [
  {
   "cell_type": "code",
   "id": "initial_id",
   "metadata": {
    "collapsed": true,
    "ExecuteTime": {
     "end_time": "2024-11-19T09:59:37.532746Z",
     "start_time": "2024-11-19T09:59:37.519068Z"
    }
   },
   "source": [
    "import pandas as pd\n",
    "import glob\n",
    "import os\n",
    "import requests"
   ],
   "outputs": [],
   "execution_count": 32
  },
  {
   "metadata": {
    "ExecuteTime": {
     "end_time": "2024-11-19T10:26:50.919004Z",
     "start_time": "2024-11-19T10:22:07.563480Z"
    }
   },
   "cell_type": "code",
   "source": [
    "# URL de base de l'API\n",
    "base_url = \"https://data.sncf.com/api/explore/v2.1/catalog/datasets/objets-trouves-gares/records\"\n",
    "limit = 10\n",
    "offset = 0\n",
    "all_data = []\n",
    "\n",
    "while True:\n",
    "    # Construire l'URL avec les paramètres de pagination\n",
    "    url = f\"{base_url}?limit={limit}&offset={offset}\"\n",
    "    response = requests.get(url)\n",
    "    data = response.json()\n",
    "\n",
    "    # Vérifier si l'appel API est réussi\n",
    "    if response.status_code != 200:\n",
    "        print(f\"API call failed with status code {response.status_code}\")\n",
    "        break\n",
    "\n",
    "    # Vérifier si la clé 'results' existe dans les données retournées\n",
    "    if 'results' not in data or not data['results']:\n",
    "        break\n",
    "\n",
    "    # Ajouter les données récupérées à la liste\n",
    "    all_data.extend(data['results'])\n",
    "\n",
    "    # Incrémenter l'offset pour la prochaine page\n",
    "    offset += limit\n",
    "\n",
    "# Convertir les données en DataFrame\n",
    "declaration_perte = pd.DataFrame(all_data)"
   ],
   "id": "ff4516f28c125393",
   "outputs": [
    {
     "name": "stdout",
     "output_type": "stream",
     "text": [
      "API call failed with status code 400\n"
     ]
    }
   ],
   "execution_count": 38
  },
  {
   "metadata": {
    "ExecuteTime": {
     "end_time": "2024-11-19T10:19:08.086244Z",
     "start_time": "2024-11-19T10:14:52.346509Z"
    }
   },
   "cell_type": "code",
   "source": [
    "# URL de base de l'API\n",
    "base_url = \"https://data.sncf.com/api/explore/v2.1/catalog/datasets/objets-trouves-restitution/records\"\n",
    "limit = 10\n",
    "offset = 0\n",
    "all_data = []\n",
    "\n",
    "while True:\n",
    "    # Construire l'URL avec les paramètres de pagination\n",
    "    url = f\"{base_url}?limit={limit}&offset={offset}\"\n",
    "    response = requests.get(url)\n",
    "    data = response.json()\n",
    "\n",
    "    # Vérifier si l'appel API est réussi\n",
    "    if response.status_code != 200:\n",
    "        print(f\"API call failed with status code {response.status_code}\")\n",
    "        break\n",
    "\n",
    "    # Vérifier si la clé 'results' existe dans les données retournées\n",
    "    if 'results' not in data or not data['results']:\n",
    "        break\n",
    "\n",
    "    # Ajouter les données récupérées à la liste\n",
    "    all_data.extend(data['results'])\n",
    "\n",
    "    # Incrémenter l'offset pour la prochaine page\n",
    "    offset += limit\n",
    "\n",
    "# Convertir les données en DataFrame\n",
    "objets_trouves = pd.DataFrame(all_data)"
   ],
   "id": "cb87bbab8c0dc616",
   "outputs": [
    {
     "name": "stdout",
     "output_type": "stream",
     "text": [
      "API call failed with status code 400\n"
     ]
    }
   ],
   "execution_count": 37
  },
  {
   "metadata": {
    "ExecuteTime": {
     "end_time": "2024-11-19T10:31:05.339625Z",
     "start_time": "2024-11-19T10:31:05.301567Z"
    }
   },
   "cell_type": "code",
   "source": [
    "objets_retrouves = objets_trouves.copy()\n",
    "objets_retrouves['restitue'] = objets_retrouves['gc_obo_date_heure_restitution_c'].notnull().astype(int)"
   ],
   "id": "2a99f56593c034c4",
   "outputs": [],
   "execution_count": 42
  },
  {
   "metadata": {
    "ExecuteTime": {
     "end_time": "2024-11-19T10:35:20.638329Z",
     "start_time": "2024-11-19T10:35:20.565715Z"
    }
   },
   "cell_type": "code",
   "source": [
    "# Enregistrer les données dans un fichier CSV\n",
    "declaration_perte.to_csv(\"declaration_perte.csv\", index=False)\n",
    "objets_trouves.to_csv(\"objets_trouves.csv\", index=False)\n",
    "objets_retrouves.to_csv(\"objets_retrouves.csv\", index=False)"
   ],
   "id": "c69ba8fda7a3dbef",
   "outputs": [],
   "execution_count": 43
  }
 ],
 "metadata": {
  "kernelspec": {
   "display_name": "Python 3",
   "language": "python",
   "name": "python3"
  },
  "language_info": {
   "codemirror_mode": {
    "name": "ipython",
    "version": 2
   },
   "file_extension": ".py",
   "mimetype": "text/x-python",
   "name": "python",
   "nbconvert_exporter": "python",
   "pygments_lexer": "ipython2",
   "version": "2.7.6"
  }
 },
 "nbformat": 4,
 "nbformat_minor": 5
}
