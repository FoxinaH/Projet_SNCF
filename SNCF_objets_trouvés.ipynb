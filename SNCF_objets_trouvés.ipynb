{
 "cells": [
  {
   "cell_type": "code",
   "id": "initial_id",
   "metadata": {
    "collapsed": true,
    "ExecuteTime": {
     "end_time": "2024-11-19T13:41:52.928661Z",
     "start_time": "2024-11-19T13:41:52.459510Z"
    }
   },
   "source": [
    "import pandas as pd\n",
    "import glob\n",
    "import os\n",
    "import requests\n"
   ],
   "outputs": [],
   "execution_count": 1
  },
  {
   "metadata": {},
   "cell_type": "code",
   "outputs": [],
   "execution_count": null,
   "source": [
    "def create_dataframe_from_api(url):\n",
    "    response = requests.get(url)\n",
    "    \n",
    "    if response.status_code != 200:\n",
    "        raise Exception(f\"API call failed with status code {response.status_code}\")\n",
    "    \n",
    "    data = response.json()\n",
    "    df = pd.DataFrame(data)\n",
    "    \n",
    "    return df"
   ],
   "id": "eb0ce59530388a85"
  },
  {
   "metadata": {},
   "cell_type": "code",
   "outputs": [],
   "execution_count": null,
   "source": "objets_perdus = create_dataframe_from_api(\"https://data.sncf.com/api/explore/v2.1/catalog/datasets/objets-trouves-gares/exports/json\")\n",
   "id": "849bd010f8eb1fb2"
  },
  {
   "metadata": {},
   "cell_type": "code",
   "outputs": [],
   "execution_count": null,
   "source": "objets_trouves = create_dataframe_from_api(\"https://data.sncf.com/api/explore/v2.1/catalog/datasets/objets-trouves-restitution/exports/json\")",
   "id": "a9aa9e255a2815fe"
  },
  {
   "metadata": {
    "ExecuteTime": {
     "end_time": "2024-11-19T13:45:34.071185Z",
     "start_time": "2024-11-19T13:45:33.992040Z"
    }
   },
   "cell_type": "code",
   "source": [
    "objets_retrouves = objets_trouves.copy()\n",
    "objets_retrouves['restitue'] = objets_retrouves['gc_obo_date_heure_restitution_c'].notnull().astype(int)"
   ],
   "id": "2a99f56593c034c4",
   "outputs": [],
   "execution_count": 3
  },
  {
   "metadata": {
    "ExecuteTime": {
     "end_time": "2024-11-19T13:45:56.789858Z",
     "start_time": "2024-11-19T13:45:56.760130Z"
    }
   },
   "cell_type": "code",
   "source": [
    "# Enregistrer les données dans un fichier CSV\n",
    "objets_perdus.to_csv(\"objets_perdus.csv\", index=False)\n",
    "objets_trouves.to_csv(\"objets_trouves.csv\", index=False)\n",
    "objets_retrouves.to_csv(\"objets_retrouves.csv\", index=False)"
   ],
   "id": "c69ba8fda7a3dbef",
   "outputs": [
    {
     "ename": "NameError",
     "evalue": "name 'objets_perdus' is not defined",
     "output_type": "error",
     "traceback": [
      "\u001B[0;31m---------------------------------------------------------------------------\u001B[0m",
      "\u001B[0;31mNameError\u001B[0m                                 Traceback (most recent call last)",
      "Cell \u001B[0;32mIn[5], line 2\u001B[0m\n\u001B[1;32m      1\u001B[0m \u001B[38;5;66;03m# Enregistrer les données dans un fichier CSV\u001B[39;00m\n\u001B[0;32m----> 2\u001B[0m \u001B[43mobjets_perdus\u001B[49m\u001B[38;5;241m.\u001B[39mto_csv(\u001B[38;5;124m\"\u001B[39m\u001B[38;5;124mobjets_perdus.csv\u001B[39m\u001B[38;5;124m\"\u001B[39m, index\u001B[38;5;241m=\u001B[39m\u001B[38;5;28;01mFalse\u001B[39;00m)\n\u001B[1;32m      3\u001B[0m objets_trouves\u001B[38;5;241m.\u001B[39mto_csv(\u001B[38;5;124m\"\u001B[39m\u001B[38;5;124mobjets_trouves.csv\u001B[39m\u001B[38;5;124m\"\u001B[39m, index\u001B[38;5;241m=\u001B[39m\u001B[38;5;28;01mFalse\u001B[39;00m)\n\u001B[1;32m      4\u001B[0m objets_retrouves\u001B[38;5;241m.\u001B[39mto_csv(\u001B[38;5;124m\"\u001B[39m\u001B[38;5;124mobjets_retrouves.csv\u001B[39m\u001B[38;5;124m\"\u001B[39m, index\u001B[38;5;241m=\u001B[39m\u001B[38;5;28;01mFalse\u001B[39;00m)\n",
      "\u001B[0;31mNameError\u001B[0m: name 'objets_perdus' is not defined"
     ]
    }
   ],
   "execution_count": 5
  }
 ],
 "metadata": {
  "kernelspec": {
   "display_name": "Python 3",
   "language": "python",
   "name": "python3"
  },
  "language_info": {
   "codemirror_mode": {
    "name": "ipython",
    "version": 2
   },
   "file_extension": ".py",
   "mimetype": "text/x-python",
   "name": "python",
   "nbconvert_exporter": "python",
   "pygments_lexer": "ipython2",
   "version": "2.7.6"
  }
 },
 "nbformat": 4,
 "nbformat_minor": 5
}
